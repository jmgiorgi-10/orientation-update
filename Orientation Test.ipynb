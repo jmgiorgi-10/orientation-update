{
 "cells": [
  {
   "cell_type": "code",
   "execution_count": 167,
   "id": "2fbc6e72-7283-4ed3-ba65-a18447b6d524",
   "metadata": {},
   "outputs": [],
   "source": [
    "import numpy as np\n",
    "\n",
    "# Imagine you have a class with a .update method, \n",
    "# args are the pose of an object and \n",
    "# your .update method gets called every time you have a new pose estimate (about 100hz)\n",
    "\n",
    "# https://cseweb.ucsd.edu/classes/wi18/cse169-a/slides/CSE169_03.pdf\n",
    "\n",
    "# 3d position vector\n",
    "# 4x4 pose matrix: review this, as well as homogeneous coordinates.\n",
    "# https://peteroupc.github.io/html3dutil/tutorial-matrixdetails.html#Why_a_4x4_Matrix\n",
    "\n",
    "def hamilton(q1, q2):\n",
    "        q_n = np.zeros(4)\n",
    "        q_n[0] = q1[0]*q2[0] - q1[1]*q2[1] - q1[2]*q2[2] - q1[3]*q2[3]\n",
    "        q_n[1] = q1[0]*q2[1] + q1[1]*q2[0] + q1[2]*q2[3] - q1[3]*q2[2]\n",
    "        q_n[2] = q1[0]*q2[2] - q1[1]*q2[3] + q1[2]*q2[0] + q1[3]*q2[1]\n",
    "        q_n[3] = q1[0]*q2[3] + q1[1]*q2[2] - q1[2]*q2[1] + q1[3]*q2[0]\n",
    "        return q_n\n",
    "    \n",
    "def inverse(q):\n",
    "    mag = q[0]**2 + q[1]**2 + q[2]**2 + q[3]**2 # should just be 1 bc unit quaternion.\n",
    "    return mag * np.array([q[0], -q[1], -q[2], -q[3]])\n",
    "\n",
    "class Object: # stored pose is the previous pose\n",
    "\n",
    "    def __init__(self, stored_pose_mat, stored_pose_quat):\n",
    "        self.stored_pose_mat = stored_pose_mat \n",
    "        self.stored_pose_quat = stored_pose_quat\n",
    "    \n",
    "    ######## In quat space ###########\n",
    "    \n",
    "    def angle_between_quats(self, q1, q2): # we are assuming the paramter quat 'q' is already normalized\n",
    "        return 2*np.arccos(np.clip(q1@q2,a_min=-1,a_max=1))\n",
    "\n",
    "    def axis_between_quats(self, q1, q2):\n",
    "        ## finish this: rotational axis for q1 -> q2 rotation\n",
    "        import pdb; pdb.set_trace()\n",
    "        q_rel = hamilton(inverse(q1), q2)\n",
    "        theta = 2*np.arccos(np.clip(q_rel[0],a_min=-1,a_max=1))\n",
    "        versor = q_rel[1:4]\n",
    "        norm = np.linalg.norm(versor)\n",
    "        if (norm != 0):\n",
    "            versor = versor / np.linalg.norm(versor, 2)\n",
    "        axis = versor\n",
    "        return axis\n",
    "    \n",
    "    def update_quat(self, cur_quat):\n",
    "        # import pdb; pdb.set_trace()\n",
    "        theta = self.angle_between_quats(self.stored_pose_quat, cur_quat)\n",
    "        axis = self.axis_between_quats(self.stored_pose_quat, cur_quat)\n",
    "        self.stored_pose_quat = cur_quat\n",
    "        return [theta, axis]\n",
    "\n",
    "    ######## In rot space #############\n",
    "\n",
    "    def angle_between_rotations(self, R1, R2):\n",
    "        Rdiff = R2@np.transpose(R1) # rotation matrix required to obtain R2 from R1 (R2 = Rdiff@R1, Rdiff = R255)\n",
    "        trace = np.trace(Rdiff)\n",
    "        theta = np.arccos((trace - 1)/2)\n",
    "        return theta\n",
    "    \n",
    "    def axis_between_rotations(self, R1, R2):\n",
    "        # find the eigenvector, where the eigenvalue=1\n",
    "        # import pdb; pdb.set_trace()\n",
    "        Rdiff = np.transpose(R1)@R2\n",
    "        eigs = np.linalg.eig(Rdiff)\n",
    "        eigenval1 = 1 + 0j\n",
    "        ind = np.where(eigs[0] == eigenval1) # identify index of rotation axis eigenvector (vector whose eigenvalue is 1)\n",
    "        axis = eigs[1][:,ind[0].item()]\n",
    "        return axis\n",
    "    \n",
    "    # will get called every time a new pose estimate arrives (~100 times/sec)\n",
    "    def update_mat(self, cur_pose):\n",
    "        # compute angular velocity of the object\n",
    "        # so we probably need to compare the orientation of the current time step, with the previous one\n",
    "        # and find the angular velocity with respect to a 3d-axis\n",
    "        theta = self.angle_between_rotations(self.stored_pose_mat, cur_pose)\n",
    "        axis = self.axis_between_rotations(self.stored_pose_mat, cur_pose)\n",
    "        self.stored_pose_mat = cur_pose # update the stored pose matrix\n",
    "        return [theta, axis] # return both as a tuple\n",
    "    \n",
    "\n",
    "\n",
    "## Then, do the same, but implemented efficiently in C++\n",
    "    "
   ]
  },
  {
   "cell_type": "code",
   "execution_count": 168,
   "id": "bdfc3480-0a0b-4610-b201-27609902baaf",
   "metadata": {},
   "outputs": [
    {
     "name": "stdout",
     "output_type": "stream",
     "text": [
      "object experience a: 24.999999999999993 degree rotation, about the axis [1. 0. 0.]\n",
      "assuming 100 Hz, the angular velocity is 43.633231299858224 rad/sec\n"
     ]
    }
   ],
   "source": [
    "# Define Rotation matrices as a proxy for Transformation pose matrices. We only need to calculate angular velocity, so no translation information is required.\n",
    "# !! printing incorrect axis, check the hamilton product function.\n",
    "\n",
    "rad45 = 45 * np.pi/180\n",
    "rad20 = 20 * np.pi/180\n",
    "# +45 degree rotation about the x-axis\n",
    "Rx45 = np.array([[1, 0, 0], [0, np.cos(rad45), -np.sin(rad45)], [0, np.sin(rad45), np.cos(rad45)]])\n",
    "# +20 degree rotation about the x-axis\n",
    "Rx20 = np.array([[1, 0, 0], [0, np.cos(rad20), -np.sin(rad20)], [0, np.sin(rad20), np.cos(rad20)]])\n",
    "\n",
    "q45x = np.array([ 0.3826834, 0, 0, 0.9238795]) # orientation: +45 degrees about x-axis\n",
    "q20x = np.array([ 0.1736482, 0, 0, 0.9848078]) # orientation: +20 degrees about x-axis\\\n",
    "\n",
    "o1 = Object(Rx45, q45x)\n",
    "[theta, axis] = o1.update_mat(Rx20)\n",
    "# print(o1.update_mat(Rx20))\n",
    "print(f'object experience a: {theta*180/np.pi} degree rotation, about the axis {np.real(axis)}')\n",
    "print(f'assuming 100 Hz, the angular velocity is {theta*100} rad/sec')"
   ]
  },
  {
   "cell_type": "code",
   "execution_count": null,
   "id": "521f5787-c978-4006-8754-f8318e5c4360",
   "metadata": {},
   "outputs": [
    {
     "name": "stdout",
     "output_type": "stream",
     "text": [
      "> \u001b[1;32mc:\\users\\joaqu\\appdata\\local\\temp\\ipykernel_17460\\2326154756.py\u001b[0m(39)\u001b[0;36maxis_between_quats\u001b[1;34m()\u001b[0m\n",
      "\n"
     ]
    },
    {
     "name": "stdin",
     "output_type": "stream",
     "text": [
      "ipdb>  n\n"
     ]
    },
    {
     "name": "stdout",
     "output_type": "stream",
     "text": [
      "> \u001b[1;32mc:\\users\\joaqu\\appdata\\local\\temp\\ipykernel_17460\\2326154756.py\u001b[0m(40)\u001b[0;36maxis_between_quats\u001b[1;34m()\u001b[0m\n",
      "\n"
     ]
    },
    {
     "name": "stdin",
     "output_type": "stream",
     "text": [
      "ipdb>  n\n"
     ]
    },
    {
     "name": "stdout",
     "output_type": "stream",
     "text": [
      "> \u001b[1;32mc:\\users\\joaqu\\appdata\\local\\temp\\ipykernel_17460\\2326154756.py\u001b[0m(41)\u001b[0;36maxis_between_quats\u001b[1;34m()\u001b[0m\n",
      "\n"
     ]
    },
    {
     "name": "stdin",
     "output_type": "stream",
     "text": [
      "ipdb>  n\n"
     ]
    },
    {
     "name": "stdout",
     "output_type": "stream",
     "text": [
      "> \u001b[1;32mc:\\users\\joaqu\\appdata\\local\\temp\\ipykernel_17460\\2326154756.py\u001b[0m(42)\u001b[0;36maxis_between_quats\u001b[1;34m()\u001b[0m\n",
      "\n"
     ]
    },
    {
     "name": "stdin",
     "output_type": "stream",
     "text": [
      "ipdb>  n\n"
     ]
    },
    {
     "name": "stdout",
     "output_type": "stream",
     "text": [
      "> \u001b[1;32mc:\\users\\joaqu\\appdata\\local\\temp\\ipykernel_17460\\2326154756.py\u001b[0m(43)\u001b[0;36maxis_between_quats\u001b[1;34m()\u001b[0m\n",
      "\n"
     ]
    },
    {
     "name": "stdin",
     "output_type": "stream",
     "text": [
      "ipdb>  q_rel\n"
     ]
    },
    {
     "name": "stdout",
     "output_type": "stream",
     "text": [
      "array([0.97629594, 0.        , 0.        , 0.21643957])\n"
     ]
    },
    {
     "name": "stdin",
     "output_type": "stream",
     "text": [
      "ipdb>  inverse(q1)\n"
     ]
    },
    {
     "name": "stdout",
     "output_type": "stream",
     "text": [
      "array([ 0.38268337, -0.        , -0.        , -0.92387942])\n"
     ]
    },
    {
     "name": "stdin",
     "output_type": "stream",
     "text": [
      "ipdb>  q2\n"
     ]
    },
    {
     "name": "stdout",
     "output_type": "stream",
     "text": [
      "array([0.1736482, 0.       , 0.       , 0.9848078])\n"
     ]
    }
   ],
   "source": [
    "# Perform the same operations with quaternions:\n",
    "\n",
    "[theta, axis] = o1.update_quat(q20x)\n",
    "# print(o1.update_mat(Rx20))\n",
    "print(f'object experience a: {theta*180/np.pi} degree rotation, about the axis {np.real(axis)}')\n",
    "print(f'assuming 100 Hz, the angular velocity is {theta*100} rad/sec')\n"
   ]
  },
  {
   "cell_type": "code",
   "execution_count": null,
   "id": "8ddc511b-8b05-406a-a1d9-99bbbbe2b946",
   "metadata": {},
   "outputs": [],
   "source": []
  },
  {
   "cell_type": "code",
   "execution_count": null,
   "id": "b7951c80-8492-47d1-aadf-704dbf8130a0",
   "metadata": {},
   "outputs": [],
   "source": []
  },
  {
   "cell_type": "code",
   "execution_count": 29,
   "id": "5ee96403-82c7-44c8-9304-01ae8697838f",
   "metadata": {},
   "outputs": [
    {
     "name": "stdout",
     "output_type": "stream",
     "text": [
      "v2 is: [0 0 1 0]\n",
      "v3 is: [ 0.        -0.3420202  0.9396926  0.       ]\n",
      "angular velocity is: 93.96926001396383 radians per second\n"
     ]
    }
   ],
   "source": [
    "\n",
    "\n",
    "\n",
    "\n",
    "# pose 1 is rotated 45 degrees about the x-axis, and located at [1,1,1].\n",
    "# pose 2 is rotated 20 degrees about the x-axis, and located at [2,2,1].\n",
    "pose1 = [[1,  0,  0, 1],\n",
    "   [0,  1, 0, 1],\n",
    "   [0,  0,  1,  1],\n",
    "   [0, 0, 0, 1]]\n",
    "\n",
    "pose2 = [[1,  0,  0, 2],\n",
    "   [0,  0.9396926, -0.3420202, 2],\n",
    "   [0,  0.3420202,  0.9396926, 2],\n",
    "   [0, 0, 0, 1]]\n",
    "\n",
    "o1 = Object(pose1)\n",
    "angular_vel = o1.update(pose2)\n",
    "\n",
    "print(f'angular velocity is: {angular_vel} radians per second')\n"
   ]
  },
  {
   "cell_type": "code",
   "execution_count": 11,
   "id": "ffccac92-3fdc-443b-a6eb-ffe0863f4880",
   "metadata": {},
   "outputs": [],
   "source": [
    "\n",
    "\n",
    "\n",
    "### Filter questions: ###\n",
    "# (discrete exponential filters to filter noise in the incoming signal) #\n",
    "\n",
    "\n",
    "\n",
    "\n",
    "\n",
    "\n",
    "## Then, do the same, but implemented efficiently in c++"
   ]
  },
  {
   "cell_type": "code",
   "execution_count": 65,
   "id": "63a15122-d5b3-4b0d-9d6e-330fe51fd6c8",
   "metadata": {},
   "outputs": [
    {
     "name": "stdout",
     "output_type": "stream",
     "text": [
      "theta is: 24.999999999999993 degrees\n",
      "[1.+0.j]\n"
     ]
    }
   ],
   "source": [
    "rad45 = 45 * np.pi/180\n",
    "rad20 = 20 * np.pi/180\n",
    "\n",
    "Rx45 = np.array([[1, 0, 0], [0, np.cos(rad45), -np.sin(rad45)], [0, np.sin(rad45), np.cos(rad45)]])\n",
    "Rx20 = np.array([[1, 0, 0], [0, np.cos(rad20), -np.sin(rad20)], [0, np.sin(rad20), np.cos(rad20)]])\n",
    "\n",
    "theta = angle_between_rotation_matrices(Rx45,Rx20)\n",
    "print(f'theta is: {theta*180/np.pi} degrees')\n",
    "\n",
    "eigs = np.linalg.eig(np.transpose(Rx45)@Rx20)\n",
    "eigenval1 = 1 + 0j\n",
    "ind = np.where(eigs[0] == eigenval1)\n",
    "print(eigs[0][ind])"
   ]
  },
  {
   "cell_type": "code",
   "execution_count": 48,
   "id": "30f496b2-5435-4dba-9ac1-79782af0a3c4",
   "metadata": {},
   "outputs": [
    {
     "name": "stdout",
     "output_type": "stream",
     "text": [
      "angle between quaternions: 24.999992418408635 degrees\n"
     ]
    }
   ],
   "source": [
    "### quaternion version: ###\n",
    "\n",
    "def angle_between_quaternions(q1, q2): # we are assuming the paramter quat 'q' is already normalized\n",
    "    return 2*np.arccos(np.clip(q1@q2,a_min=-1,a_max=1))\n",
    "\n",
    "q1 = np.array([ 0.3826834, 0, 0, 0.9238795]) # orientation: +45 degrees about x-axis\n",
    "q2 = np.array([ 0.1736482, 0, 0, 0.9848078]) # orientation: +20 degrees about x-axis\\\n",
    "# i.e., we should see a 25 degree difference\n",
    "\n",
    "print(f'angle between quaternions: {angle_between_quaternions(q1,q2) * 180 / np.pi} degrees')"
   ]
  },
  {
   "cell_type": "code",
   "execution_count": null,
   "id": "cb44679c-10bb-465d-b7c9-3bdf78a68f52",
   "metadata": {},
   "outputs": [],
   "source": []
  }
 ],
 "metadata": {
  "kernelspec": {
   "display_name": "Python 3 (ipykernel)",
   "language": "python",
   "name": "python3"
  },
  "language_info": {
   "codemirror_mode": {
    "name": "ipython",
    "version": 3
   },
   "file_extension": ".py",
   "mimetype": "text/x-python",
   "name": "python",
   "nbconvert_exporter": "python",
   "pygments_lexer": "ipython3",
   "version": "3.12.2"
  }
 },
 "nbformat": 4,
 "nbformat_minor": 5
}
